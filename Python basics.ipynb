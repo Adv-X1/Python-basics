{
 "cells": [
  {
   "cell_type": "code",
   "execution_count": 1,
   "id": "30fe06ef-7535-482a-a1a9-e7af01e46ab0",
   "metadata": {},
   "outputs": [
    {
     "name": "stdout",
     "output_type": "stream",
     "text": [
      "hello world\n"
     ]
    }
   ],
   "source": [
    "print('hello world')"
   ]
  },
  {
   "cell_type": "code",
   "execution_count": 2,
   "id": "137510f4-82f3-4a29-bad6-3bddfa545ede",
   "metadata": {},
   "outputs": [
    {
     "name": "stdin",
     "output_type": "stream",
     "text": [
      "Enter your name Harsh\n"
     ]
    },
    {
     "name": "stdout",
     "output_type": "stream",
     "text": [
      "Harsh\n"
     ]
    }
   ],
   "source": [
    "name = input('Enter your name')\n",
    "print(name)"
   ]
  },
  {
   "cell_type": "code",
   "execution_count": 3,
   "id": "2ec0b5b2-d55d-4012-9348-0998dfe1abe5",
   "metadata": {},
   "outputs": [
    {
     "name": "stdout",
     "output_type": "stream",
     "text": [
      "5\n",
      "Voldemort\n"
     ]
    }
   ],
   "source": [
    "x=5\n",
    "y=\"Voldemort\"\n",
    "print(x)\n",
    "print(y)"
   ]
  },
  {
   "cell_type": "code",
   "execution_count": 4,
   "id": "04903283-d117-48b7-9fd8-732e47d05d88",
   "metadata": {},
   "outputs": [
    {
     "name": "stdout",
     "output_type": "stream",
     "text": [
      "python is Easy\n"
     ]
    }
   ],
   "source": [
    "x='Easy'\n",
    "print('python is '+ x)"
   ]
  },
  {
   "cell_type": "code",
   "execution_count": 5,
   "id": "015e16a0-6e73-4545-af3e-326f654efb6c",
   "metadata": {},
   "outputs": [
    {
     "name": "stdout",
     "output_type": "stream",
     "text": [
      "15\n"
     ]
    }
   ],
   "source": [
    "x=5\n",
    "y=10\n",
    "print(x+y)"
   ]
  },
  {
   "cell_type": "code",
   "execution_count": 6,
   "id": "62665f82-1a5f-4fc9-acb0-a35be35dc3d4",
   "metadata": {},
   "outputs": [
    {
     "name": "stdout",
     "output_type": "stream",
     "text": [
      "<class 'int'>\n",
      "<class 'int'>\n",
      "<class 'int'>\n"
     ]
    }
   ],
   "source": [
    "x=1\n",
    "y=32598\n",
    "z=-6584\n",
    "print(type(x))\n",
    "print(type(y))\n",
    "print(type(z))"
   ]
  },
  {
   "cell_type": "code",
   "execution_count": 7,
   "id": "e8da241b-9984-44be-bb76-08907f23e8d2",
   "metadata": {},
   "outputs": [
    {
     "name": "stdout",
     "output_type": "stream",
     "text": [
      "<class 'complex'>\n",
      "<class 'complex'>\n",
      "<class 'complex'>\n",
      "<class 'str'>\n"
     ]
    }
   ],
   "source": [
    "x=3+5j\n",
    "y=5j\n",
    "z=-5j\n",
    "u='Laptop'\n",
    "print(type(x))\n",
    "print(type(y))\n",
    "print(type(z))\n",
    "print(type(u))"
   ]
  },
  {
   "cell_type": "code",
   "execution_count": 9,
   "id": "a25a663a-b57a-4e8a-b4a2-ab1de5856e9e",
   "metadata": {},
   "outputs": [
    {
     "name": "stdout",
     "output_type": "stream",
     "text": [
      "1.0\n",
      "3.5\n",
      "3.0\n",
      "4.2\n",
      "<class 'float'>\n",
      "<class 'float'>\n",
      "<class 'float'>\n",
      "<class 'float'>\n"
     ]
    }
   ],
   "source": [
    "x=float(1)\n",
    "y=float(3.5)\n",
    "z=float(\"3\")\n",
    "w=float(\"4.2\")\n",
    "print(x)\n",
    "print(y)\n",
    "print(z)\n",
    "print(w)\n",
    "print(type(x))\n",
    "print(type(y))\n",
    "print(type(z))\n",
    "print(type(w))"
   ]
  },
  {
   "cell_type": "code",
   "execution_count": 10,
   "id": "f8044ca2-2d8b-425f-ba5b-a1077e5562fc",
   "metadata": {},
   "outputs": [
    {
     "name": "stdout",
     "output_type": "stream",
     "text": [
      "s1\n",
      "2\n",
      "3.0\n",
      "<class 'str'>\n",
      "<class 'str'>\n",
      "<class 'str'>\n"
     ]
    }
   ],
   "source": [
    "x=str(\"s1\")\n",
    "y=str(2)\n",
    "z=str(3.0)\n",
    "print(x)\n",
    "print(y)\n",
    "print(z)\n",
    "print(type(x))\n",
    "print(type(y))\n",
    "print(type(z))"
   ]
  },
  {
   "cell_type": "code",
   "execution_count": 11,
   "id": "1a25e253-30ef-431b-9a70-2c8b5a34a47e",
   "metadata": {},
   "outputs": [
    {
     "name": "stdout",
     "output_type": "stream",
     "text": [
      "e\n",
      "<class 'str'>\n"
     ]
    }
   ],
   "source": [
    "a=\"Hello World\"\n",
    "print(a[1])\n",
    "print(type(a))"
   ]
  },
  {
   "cell_type": "code",
   "execution_count": 15,
   "id": "33fd5f10-3b40-4006-93b4-39e2910afa5b",
   "metadata": {},
   "outputs": [
    {
     "name": "stdin",
     "output_type": "stream",
     "text": [
      "Enter the number: 6\n"
     ]
    },
    {
     "name": "stdout",
     "output_type": "stream",
     "text": [
      "number is even\n"
     ]
    }
   ],
   "source": [
    "def is_even(a):\n",
    "    if (a % 2) == 0:\n",
    "        print(\"number is even\")\n",
    "    else:\n",
    "        print(\"nuber is odd\")\n",
    "b=int (input(\"Enter the number:\"))\n",
    "is_even(b)"
   ]
  },
  {
   "cell_type": "code",
   "execution_count": 18,
   "id": "c8887d7f-4e2b-459a-a07e-1a6726adccfa",
   "metadata": {},
   "outputs": [
    {
     "name": "stdin",
     "output_type": "stream",
     "text": [
      " 26\n"
     ]
    },
    {
     "name": "stdout",
     "output_type": "stream",
     "text": [
      "26 is not a prime no\n"
     ]
    }
   ],
   "source": [
    "num = int(input())\n",
    "for i in range(2,num//2):\n",
    "    if num % i == 0:\n",
    "        print(num,\"is not a prime no\")\n",
    "        break;\n",
    "    else:\n",
    "        print(num,\"is a prime no\")"
   ]
  },
  {
   "cell_type": "code",
   "execution_count": 19,
   "id": "75e5db0c-ca3d-4e85-a862-4a10c3c89982",
   "metadata": {},
   "outputs": [
    {
     "name": "stdin",
     "output_type": "stream",
     "text": [
      "enter the number: 165\n"
     ]
    }
   ],
   "source": [
    "num = int(input(\"enter the number:\"))\n",
    "flag = False\n",
    "if num == 1 or num ==2:\n",
    "    print(num,\"is a prime no\")\n",
    "elif num > 1:\n",
    "    for i in range(2,num):\n",
    "        if (num % i) == 0:\n",
    "            flag = True"
   ]
  },
  {
   "cell_type": "code",
   "execution_count": 20,
   "id": "bfba0ec6-5605-4a6b-b011-d0def7e5d102",
   "metadata": {},
   "outputs": [
    {
     "name": "stdout",
     "output_type": "stream",
     "text": [
      "343\n"
     ]
    }
   ],
   "source": [
    "cube_v2 = lambda x : x*x*x\n",
    "print(cube_v2(7))"
   ]
  },
  {
   "cell_type": "code",
   "execution_count": 21,
   "id": "9d90951e-a7dc-4040-95eb-ccb931ead54f",
   "metadata": {},
   "outputs": [
    {
     "name": "stdout",
     "output_type": "stream",
     "text": [
      "343\n"
     ]
    }
   ],
   "source": [
    "def cube(x): return x*x*x\n",
    "print(cube(7))"
   ]
  },
  {
   "cell_type": "code",
   "execution_count": 22,
   "id": "6eb0ed34-a18b-498f-b3f6-d1e3f3688f84",
   "metadata": {},
   "outputs": [
    {
     "name": "stdout",
     "output_type": "stream",
     "text": [
      "11\n",
      "30\n"
     ]
    }
   ],
   "source": [
    "add = lambda x,y: x+y\n",
    "print (add(5,6))\n",
    "def multi(x,y): return x*y\n",
    "print(multi(5,6))"
   ]
  },
  {
   "cell_type": "code",
   "execution_count": 23,
   "id": "ad1ea414-2bff-45d5-b5cd-a1e259064773",
   "metadata": {},
   "outputs": [
    {
     "name": "stdout",
     "output_type": "stream",
     "text": [
      "['apple', 'blackcrrant', 'cherry']\n"
     ]
    }
   ],
   "source": [
    "thislist = [\"apple\",\"banana\",'cherry']\n",
    "thislist[1] = \"blackcrrant\"\n",
    "print(thislist)"
   ]
  },
  {
   "cell_type": "code",
   "execution_count": 24,
   "id": "147177d9-2242-4f7b-a1ae-aa9ffc861c44",
   "metadata": {},
   "outputs": [
    {
     "name": "stdout",
     "output_type": "stream",
     "text": [
      "12\n"
     ]
    }
   ],
   "source": [
    "b=\"Hello World!\"\n",
    "print(len(b))"
   ]
  },
  {
   "cell_type": "code",
   "execution_count": 25,
   "id": "cfc42438-51a7-44cf-aaf1-2c869f12897a",
   "metadata": {},
   "outputs": [
    {
     "name": "stdout",
     "output_type": "stream",
     "text": [
      "hello world!\n"
     ]
    }
   ],
   "source": [
    "a=\"Hello World!\"\n",
    "print(a.lower())"
   ]
  },
  {
   "cell_type": "code",
   "execution_count": 26,
   "id": "ffdfe809-91a0-4023-b9f5-609813d4800c",
   "metadata": {},
   "outputs": [
    {
     "name": "stdout",
     "output_type": "stream",
     "text": [
      "{'grapes', 'mango', 'cherry', 'banana', 'apple', 'orange'}\n"
     ]
    }
   ],
   "source": [
    "thisset={\"apple\",\"banana\",\"cherry\"}\n",
    "thisset.update([\"orange\",\"mango\",\"grapes\"])\n",
    "print(thisset)"
   ]
  },
  {
   "cell_type": "code",
   "execution_count": 27,
   "id": "a7d8026f-13e1-44dc-950f-620832510ae3",
   "metadata": {},
   "outputs": [
    {
     "name": "stdout",
     "output_type": "stream",
     "text": [
      "{'banana', 'apple', 'cherry', 'orange'}\n"
     ]
    }
   ],
   "source": [
    "thisset={\"apple\",\"banana\",\"cherry\"}\n",
    "thisset.add(\"orange\")\n",
    "print(thisset)"
   ]
  },
  {
   "cell_type": "code",
   "execution_count": 28,
   "id": "fbbd9b57-792a-4c1d-b4bb-c13352631cdb",
   "metadata": {},
   "outputs": [
    {
     "name": "stdout",
     "output_type": "stream",
     "text": [
      "{'apple', 'cherry'}\n"
     ]
    }
   ],
   "source": [
    "thisset={\"apple\",\"banana\",\"cherry\"}\n",
    "thisset.remove(\"banana\")\n",
    "print(thisset)"
   ]
  },
  {
   "cell_type": "code",
   "execution_count": 29,
   "id": "5eca9acc-46fb-41e3-a2b1-6a7ed4d5ccdb",
   "metadata": {},
   "outputs": [
    {
     "name": "stdout",
     "output_type": "stream",
     "text": [
      "1964\n"
     ]
    }
   ],
   "source": [
    "thisdict = {\n",
    "\"brand\" : \"ford\",\n",
    "\"model\": \"mustang\",\n",
    "\"year\" : 1964\n",
    "}\n",
    "print(thisdict[\"year\"])"
   ]
  },
  {
   "cell_type": "code",
   "execution_count": 35,
   "id": "29c5312e-011a-4b86-bd93-e8d0090b37ef",
   "metadata": {},
   "outputs": [
    {
     "name": "stdout",
     "output_type": "stream",
     "text": [
      "1964 \n",
      "Ford\n",
      "Mustang\n",
      "1964 \n"
     ]
    }
   ],
   "source": [
    "thisdict={\n",
    "    \"Brand\":\"Ford\",\n",
    "    \"Model\" : \"Mustang\",\n",
    "    \"Year\":\"1964 \"\n",
    "}\n",
    "print(thisdict[\"Year\"])\n",
    "for i in thisdict:\n",
    "    print(thisdict[i])"
   ]
  },
  {
   "cell_type": "code",
   "execution_count": 38,
   "id": "ca1dd47d-01bb-4478-900b-c7876bffd843",
   "metadata": {},
   "outputs": [
    {
     "name": "stdout",
     "output_type": "stream",
     "text": [
      "1964 \n",
      "Brand : Ford\n",
      "Model : Mustang\n",
      "Year : 1964 \n",
      "1964 \n",
      "{'Brand': 'Ford', 'Model': 'Mustang'}\n"
     ]
    }
   ],
   "source": [
    "thisdict={\n",
    "    \"Brand\":\"Ford\",\n",
    "    \"Model\" : \"Mustang\",\n",
    "    \"Year\":\"1964 \"\n",
    "}\n",
    "print(thisdict[\"Year\"])\n",
    "for key, value in thisdict.items():\n",
    "    print(key, \":\", value)\n",
    "thisdict[\"color\"]=\"Red\"\n",
    "y = thisdict.pop(\"Year\")\n",
    "print(y)\n",
    "thisdict.popitem()\n",
    "print(thisdict)"
   ]
  },
  {
   "cell_type": "code",
   "execution_count": 39,
   "id": "8e8fb444-c831-4526-b18f-e9d87abdd232",
   "metadata": {},
   "outputs": [
    {
     "name": "stdout",
     "output_type": "stream",
     "text": [
      "llo\n"
     ]
    }
   ],
   "source": [
    "a=\"hello world!\"\n",
    "print(b[2:5])"
   ]
  },
  {
   "cell_type": "code",
   "execution_count": 40,
   "id": "fb2a24b6-1dfc-44b5-b3b9-708297f5b0b8",
   "metadata": {},
   "outputs": [
    {
     "name": "stdout",
     "output_type": "stream",
     "text": [
      "hellow world\n"
     ]
    }
   ],
   "source": [
    "a=\"hellow world\"\n",
    "print(a.strip())"
   ]
  },
  {
   "cell_type": "code",
   "execution_count": 41,
   "id": "9104d8ae-e54c-4a23-bbe6-1bb3bfad4d7c",
   "metadata": {},
   "outputs": [
    {
     "name": "stdout",
     "output_type": "stream",
     "text": [
      "HELLO WORLD\n"
     ]
    }
   ],
   "source": [
    "a=\"hello world\"\n",
    "print(a.upper())"
   ]
  },
  {
   "cell_type": "code",
   "execution_count": 42,
   "id": "17cbe158-cd87-4932-822b-643c5e3ce587",
   "metadata": {},
   "outputs": [
    {
     "name": "stdout",
     "output_type": "stream",
     "text": [
      "Jello, World!\n"
     ]
    }
   ],
   "source": [
    "a = \"Hello, World!\"\n",
    "print(a.replace(\"H\",\"J\"))"
   ]
  },
  {
   "cell_type": "code",
   "execution_count": 43,
   "id": "c3c6d97f-f775-4de7-a96e-f0609511e527",
   "metadata": {},
   "outputs": [
    {
     "name": "stdout",
     "output_type": "stream",
     "text": [
      "['Hello', ' World!']\n"
     ]
    }
   ],
   "source": [
    "a = \"Hello, World!\"\n",
    "print(a.split(\",\"))"
   ]
  },
  {
   "cell_type": "code",
   "execution_count": 44,
   "id": "091f0cc3-7632-4b8a-84cf-e394498df726",
   "metadata": {},
   "outputs": [
    {
     "name": "stdout",
     "output_type": "stream",
     "text": [
      "Enter your name:\n"
     ]
    },
    {
     "name": "stdin",
     "output_type": "stream",
     "text": [
      " Harsh Singh\n"
     ]
    },
    {
     "name": "stdout",
     "output_type": "stream",
     "text": [
      "Hello,Harsh Singh\n"
     ]
    }
   ],
   "source": [
    "print(\"Enter your name:\")\n",
    "x = input()\n",
    "print(\"Hello,\" + x)"
   ]
  },
  {
   "cell_type": "code",
   "execution_count": 45,
   "id": "0f482daf-27a9-4df2-8f27-dc80e7ca526e",
   "metadata": {},
   "outputs": [
    {
     "name": "stdout",
     "output_type": "stream",
     "text": [
      "True\n",
      "True\n",
      "True\n",
      "False\n"
     ]
    }
   ],
   "source": [
    "x = [\"apple\",\"banana\"]\n",
    "y = [\"apple\",\"banana\"]\n",
    "z = x\n",
    "print(x is z)\n",
    "print(x is not y)\n",
    "print(x == y)\n",
    "print(x > y)"
   ]
  },
  {
   "cell_type": "code",
   "execution_count": 46,
   "id": "ff1ab6ac-7568-4ac4-acc7-14a35cc6740f",
   "metadata": {},
   "outputs": [
    {
     "name": "stdout",
     "output_type": "stream",
     "text": [
      "True\n",
      "True\n",
      "True\n",
      "False\n"
     ]
    }
   ],
   "source": [
    "x = [\"apple\",\"banana\"]\n",
    "y = [\"apple\",\"banana\"]\n",
    "z = x\n",
    "print(x is z)\n",
    "print(x is not y)\n",
    "print(x == y)\n",
    "print(x < y)"
   ]
  },
  {
   "cell_type": "code",
   "execution_count": 47,
   "id": "6a4f4a35-7d3a-4a23-a398-899e1dae0a90",
   "metadata": {},
   "outputs": [
    {
     "name": "stdout",
     "output_type": "stream",
     "text": [
      "True\n",
      "True\n"
     ]
    }
   ],
   "source": [
    "x = [\"apple\",\"banana\"]\n",
    "print(\"banana\" in x)\n",
    "print(\"pineapple\" not in x)"
   ]
  },
  {
   "cell_type": "code",
   "execution_count": 48,
   "id": "2c5e8316-673e-41f7-bbb0-1f568e46acd3",
   "metadata": {},
   "outputs": [
    {
     "name": "stdout",
     "output_type": "stream",
     "text": [
      "['apple', 'banana', 'cherry']\n",
      "banana\n"
     ]
    }
   ],
   "source": [
    "thislist = [\"apple\",\"banana\",\"cherry\"]\n",
    "print(thislist)\n",
    "print(thislist[1])"
   ]
  },
  {
   "cell_type": "code",
   "execution_count": 49,
   "id": "269ff87a-bfee-4320-bfc2-dee6196dc96d",
   "metadata": {},
   "outputs": [
    {
     "name": "stdout",
     "output_type": "stream",
     "text": [
      "apple\n",
      "banana\n",
      "cherry\n"
     ]
    }
   ],
   "source": [
    "thislist = [\"apple\",\"banana\",\"cherry\"]\n",
    "for x in thislist:\n",
    "    print(x)"
   ]
  },
  {
   "cell_type": "code",
   "execution_count": 50,
   "id": "06030556-c8b3-4c99-b667-633f23e5827c",
   "metadata": {},
   "outputs": [
    {
     "name": "stdout",
     "output_type": "stream",
     "text": [
      "Yes, 'apple' is in the fruits list\n"
     ]
    }
   ],
   "source": [
    "thislist = [\"apple\",\"banana\",\"cherry\"]\n",
    "if \"apple\" in thislist:\n",
    "    print(\"Yes, 'apple' is in the fruits list\")"
   ]
  },
  {
   "cell_type": "code",
   "execution_count": 51,
   "id": "83cca1b8-c2a2-44eb-8461-efd24ec1f5ea",
   "metadata": {},
   "outputs": [
    {
     "name": "stdin",
     "output_type": "stream",
     "text": [
      "Enter the first number:  19\n",
      "Enter the second number:  94\n"
     ]
    }
   ],
   "source": [
    "def perform_operations(num1, num2):\n",
    "    addition_result = num1 + num2\n",
    "    print(f\"Addition: {num1} + {num2} = {addition_result}\")\n",
    "    multiplication_result = num1 * num2\n",
    "    print(f\"Multiplication: {num1} * {num2} = {multiplication_result}\")\n",
    "num1 = float(input(\"Enter the first number: \"))\n",
    "num2 = float(input(\"Enter the second number: \"))"
   ]
  },
  {
   "cell_type": "code",
   "execution_count": 52,
   "id": "e7928f2d-9d96-416d-8a7f-25242d856012",
   "metadata": {},
   "outputs": [
    {
     "name": "stdin",
     "output_type": "stream",
     "text": [
      "Enter a number to check if it's prime:  34\n"
     ]
    },
    {
     "name": "stdout",
     "output_type": "stream",
     "text": [
      "34 is not a prime number.\n"
     ]
    }
   ],
   "source": [
    "def is_prime(num):\n",
    "    if num > 1:\n",
    "        for i in range(2, int(num**0.5) + 1):\n",
    "            if (num % i) == 0:\n",
    "                print(f\"{num} is not a prime number.\")\n",
    "                break\n",
    "            else:\n",
    "                print(f\"{num} is a prime number.\")\n",
    "        else:\n",
    "            print(f\"{num} is not a prime number.\")\n",
    "number_to_check = int(input(\"Enter a number to check if it's prime: \"))\n",
    "is_prime(number_to_check)"
   ]
  },
  {
   "cell_type": "code",
   "execution_count": 56,
   "id": "75d01c92-2934-4271-b176-5a0efe050b2e",
   "metadata": {},
   "outputs": [
    {
     "name": "stdin",
     "output_type": "stream",
     "text": [
      "Enter a number:  84\n"
     ]
    },
    {
     "name": "stdout",
     "output_type": "stream",
     "text": [
      "84 is not a prime number.\n"
     ]
    }
   ],
   "source": [
    "def is_prime(number):\n",
    "    if number <= 1:\n",
    "        print(f\"{number} is not a prime number.\")\n",
    "    elif number == 2:\n",
    "        print(f\"{number} is a prime number.\")\n",
    "    else:\n",
    "        for i in range(2, int(number**0.5) + 1):\n",
    "            if number % i == 0:\n",
    "                print(f\"{number} is not a prime number.\")\n",
    "                break\n",
    "            else:\n",
    "                print(f\"{number} is a prime number.\")\n",
    "num = int(input(\"Enter a number: \"))\n",
    "is_prime(num)"
   ]
  },
  {
   "cell_type": "code",
   "execution_count": 58,
   "id": "cfd0e33a-8883-4f82-a5a8-e1e56e0bd2d6",
   "metadata": {},
   "outputs": [
    {
     "name": "stdin",
     "output_type": "stream",
     "text": [
      "Enter a number:  59\n"
     ]
    },
    {
     "name": "stdout",
     "output_type": "stream",
     "text": [
      "59 is a prime number.\n"
     ]
    }
   ],
   "source": [
    "def is_prime(number):\n",
    "    if number <= 1:\n",
    "        return False\n",
    "    for i in range(2, int(number**0.5) + 1):\n",
    "        if number % i == 0:\n",
    "            return False\n",
    "    return True\n",
    "user_input = int(input(\"Enter a number: \"))\n",
    "if is_prime(user_input):\n",
    "    print(f\"{user_input} is a prime number.\")\n",
    "else:\n",
    "    print(f\"{user_input} is not a prime number.\")"
   ]
  },
  {
   "cell_type": "code",
   "execution_count": 59,
   "id": "7ed6b7d0-be95-42a1-85b9-7fee7534d3ba",
   "metadata": {},
   "outputs": [
    {
     "name": "stdout",
     "output_type": "stream",
     "text": [
      "Prime numbers up to 20: [2, 3, 5, 7, 11, 13, 17, 19]\n"
     ]
    }
   ],
   "source": [
    "def find_primes_up_to(limit):\n",
    "    primes = []\n",
    "    num = 2\n",
    "    while num <= limit:\n",
    "        if is_prime(num):\n",
    "            primes.append(num)\n",
    "        num += 1\n",
    "    return primes\n",
    "limit = 20\n",
    "prime_numbers = find_primes_up_to(limit)\n",
    "print(f\"Prime numbers up to {limit}: {prime_numbers}\")"
   ]
  },
  {
   "cell_type": "code",
   "execution_count": 4,
   "id": "a30ef394-71ac-4956-9f54-ecbc8fc0c1a9",
   "metadata": {},
   "outputs": [
    {
     "name": "stdin",
     "output_type": "stream",
     "text": [
      "Enter your name: Harsh Singh R\n",
      "Enter your class: ASE\n",
      "Enter your section: 6th\n",
      "enter the maths marks: 95\n",
      "enter the english marks: 92\n",
      "enter the science marks: 100\n"
     ]
    },
    {
     "name": "stdout",
     "output_type": "stream",
     "text": [
      "pass\n"
     ]
    }
   ],
   "source": [
    "Name= input(\"Enter your name:\")\n",
    "Class = input(\"Enter your class:\")\n",
    "section = input(\"Enter your section:\")\n",
    "maths = int(input(\"enter the maths marks:\"))\n",
    "eng = int(input(\"enter the english marks:\"))\n",
    "sci = int(input(\"enter the science marks:\"))\n",
    "grade = (maths+eng+sci)/3\n",
    "if grade<45:\n",
    "    print(\"fail\")\n",
    "elif grade>45:\n",
    "    print(\"pass\")\n",
    "elif grade<0 or grade>100:\n",
    "    print(\"error\")"
   ]
  },
  {
   "cell_type": "code",
   "execution_count": 5,
   "id": "a0fd1268-6659-44f9-a5a9-3215f78d819f",
   "metadata": {},
   "outputs": [
    {
     "name": "stdin",
     "output_type": "stream",
     "text": [
      "enter the signal colour(green=g, yellow = y, red = r): r\n"
     ]
    },
    {
     "name": "stdout",
     "output_type": "stream",
     "text": [
      "Stop\n"
     ]
    }
   ],
   "source": [
    "light = input(\"enter the signal colour(green=g, yellow = y, red = r):\")\n",
    "if light==\"g\":\n",
    "    print(\"go\")\n",
    "elif light ==\"y\":\n",
    "    print(\"wait\")\n",
    "elif light ==\"r\":\n",
    "    print(\"Stop\")\n",
    "else:\n",
    "    print(\"unrecognised signal\")"
   ]
  },
  {
   "cell_type": "code",
   "execution_count": 7,
   "id": "d7444207-2caf-4acb-9c68-e075e8c68eb6",
   "metadata": {},
   "outputs": [
    {
     "name": "stdin",
     "output_type": "stream",
     "text": [
      "Enter your age: 20\n"
     ]
    },
    {
     "name": "stdout",
     "output_type": "stream",
     "text": [
      "eligible\n"
     ]
    }
   ],
   "source": [
    "age = int(input(\"Enter your age:\"))\n",
    "if age<18:\n",
    "    print(\"not eligible\")\n",
    "else:\n",
    "    print(\"eligible\")"
   ]
  },
  {
   "cell_type": "code",
   "execution_count": null,
   "id": "9ed6be7c-30fa-489d-b9fe-776c449e7586",
   "metadata": {},
   "outputs": [],
   "source": []
  }
 ],
 "metadata": {
  "kernelspec": {
   "display_name": "Python 3 (ipykernel)",
   "language": "python",
   "name": "python3"
  },
  "language_info": {
   "codemirror_mode": {
    "name": "ipython",
    "version": 3
   },
   "file_extension": ".py",
   "mimetype": "text/x-python",
   "name": "python",
   "nbconvert_exporter": "python",
   "pygments_lexer": "ipython3",
   "version": "3.11.7"
  }
 },
 "nbformat": 4,
 "nbformat_minor": 5
}
